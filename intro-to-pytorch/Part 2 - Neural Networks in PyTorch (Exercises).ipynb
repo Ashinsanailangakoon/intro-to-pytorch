{
 "cells": [
  {
   "cell_type": "markdown",
   "metadata": {},
   "source": [
    "# Neural networks with PyTorch\n",
    "\n",
    "Deep learning networks tend to be massive with dozens or hundreds of layers, that's where the term \"deep\" comes from. You can build one of these deep networks using only weight matrices as we did in the previous notebook, but in general it's very cumbersome and difficult to implement. PyTorch has a nice module `nn` that provides a nice way to efficiently build large neural networks."
   ]
  },
  {
   "cell_type": "code",
   "execution_count": 20,
   "metadata": {
    "pycharm": {
     "is_executing": false
    }
   },
   "outputs": [],
   "source": [
    "# Import necessary packages\n",
    "\n",
    "%matplotlib inline\n",
    "%config InlineBackend.figure_format = 'retina'\n",
    "\n",
    "import numpy as np\n",
    "import torch\n",
    "\n",
    "import helper\n",
    "\n",
    "import matplotlib.pyplot as plt"
   ]
  },
  {
   "cell_type": "markdown",
   "metadata": {},
   "source": [
    "\n",
    "Now we're going to build a larger network that can solve a (formerly) difficult problem, identifying text in an image. Here we'll use the MNIST dataset which consists of greyscale handwritten digits. Each image is 28x28 pixels, you can see a sample below\n",
    "\n",
    "<img src='assets/mnist.png'>\n",
    "\n",
    "Our goal is to build a neural network that can take one of these images and predict the digit in the image.\n",
    "\n",
    "First up, we need to get our dataset. This is provided through the `torchvision` package. The code below will download the MNIST dataset, then create training and test datasets for us. Don't worry too much about the details here, you'll learn more about this later."
   ]
  },
  {
   "cell_type": "code",
   "execution_count": 2,
   "metadata": {
    "pycharm": {
     "is_executing": false
    }
   },
   "outputs": [],
   "source": [
    "### Run this cell\n",
    "\n",
    "from torchvision import datasets, transforms\n",
    "\n",
    "# Define a transform to normalize the data\n",
    "transform = transforms.Compose([transforms.ToTensor(),\n",
    "                              transforms.Normalize((0.5,), (0.5,)),\n",
    "                              ])\n",
    "\n",
    "# Download and load the training data\n",
    "trainset = datasets.MNIST('~/.pytorch/MNIST_data/', download=True, train=True, transform=transform)\n",
    "trainloader = torch.utils.data.DataLoader(trainset, batch_size=64, shuffle=True)"
   ]
  },
  {
   "cell_type": "markdown",
   "metadata": {},
   "source": [
    "We have the training data loaded into `trainloader` and we make that an iterator with `iter(trainloader)`. Later, we'll use this to loop through the dataset for training, like\n",
    "\n",
    "```python\n",
    "for image, label in trainloader:\n",
    "    ## do things with images and labels\n",
    "```\n",
    "\n",
    "You'll notice I created the `trainloader` with a batch size of 64, and `shuffle=True`. The batch size is the number of images we get in one iteration from the data loader and pass through our network, often called a *batch*. And `shuffle=True` tells it to shuffle the dataset every time we start going through the data loader again. But here I'm just grabbing the first batch so we can check out the data. We can see below that `images` is just a tensor with size `(64, 1, 28, 28)`. So, 64 images per batch, 1 color channel, and 28x28 images."
   ]
  },
  {
   "cell_type": "code",
   "execution_count": 3,
   "metadata": {
    "pycharm": {
     "is_executing": false
    }
   },
   "outputs": [
    {
     "name": "stdout",
     "text": [
      "<class 'torch.Tensor'>\n",
      "torch.Size([64, 1, 28, 28])\n",
      "torch.Size([64])\n"
     ],
     "output_type": "stream"
    }
   ],
   "source": [
    "dataiter = iter(trainloader)\n",
    "images, labels = dataiter.next()\n",
    "print(type(images))\n",
    "print(images.shape)\n",
    "print(labels.shape)"
   ]
  },
  {
   "cell_type": "markdown",
   "metadata": {},
   "source": [
    "This is what one of the images looks like. "
   ]
  },
  {
   "cell_type": "code",
   "execution_count": 4,
   "metadata": {
    "scrolled": true,
    "pycharm": {
     "is_executing": false
    }
   },
   "outputs": [
    {
     "data": {
      "text/plain": "<Figure size 432x288 with 1 Axes>",
      "image/png": "[encoded data removed]"
     },
     "metadata": {
      "image/png": {
       "width": 251,
       "height": 248
      },
      "needs_background": "light"
     },
     "output_type": "display_data"
    }
   ],
   "source": [
    "plt.imshow(images[1].numpy().squeeze(), cmap='Greys_r');"
   ]
  },
  {
   "cell_type": "markdown",
   "metadata": {},
   "source": [
    "First, let's try to build a simple network for this dataset using weight matrices and matrix multiplications. Then, we'll see how to do it using PyTorch's `nn` module which provides a much more convenient and powerful method for defining network architectures.\n",
    "\n",
    "The networks you've seen so far are called *fully-connected* or *dense* networks. Each unit in one layer is connected to each unit in the next layer. In fully-connected networks, the input to each layer must be a one-dimensional vector (which can be stacked into a 2D tensor as a batch of multiple examples). However, our images are 28x28 2D tensors, so we need to convert them into 1D vectors. Thinking about sizes, we need to convert the batch of images with shape `(64, 1, 28, 28)` to a have a shape of `(64, 784)`, 784 is 28 times 28. This is typically called *flattening*, we flattened the 2D images into 1D vectors.\n",
    "\n",
    "Previously you built a network with one output unit. Here we need 10 output units, one for each digit. We want our network to predict the digit shown in an image, so what we'll do is calculate probabilities that the image is of any one digit or class. This ends up being a discrete probability distribution over the classes (digits) that tells us the most likely class for the image. That means we need 10 output units for the 10 classes (digits). We'll see how to convert the network output into a probability distribution next.\n",
    "\n",
    "> **Exercise:** Flatten the batch of images `images`. Then build a multi-layer network with 784 input units, 256 hidden units, and 10 output units using random tensors for the weights and biases. For now, use a sigmoid activation for the hidden layer. Leave the output layer without an activation, we'll add one that gives us a probability distribution next."
   ]
  },
  {
   "cell_type": "code",
   "execution_count": 5,
   "metadata": {
    "pycharm": {
     "is_executing": false
    }
   },
   "outputs": [
    {
     "name": "stdout",
     "text": [
      "torch.Size([64, 784])\n",
      "torch.Size([784, 256])\n",
      "torch.Size([64, 256])\n",
      "torch.Size([64, 10])\n"
     ],
     "output_type": "stream"
    },
    {
     "data": {
      "text/plain": "tensor([[-1.0480e+01,  5.8089e+00,  8.7498e+00,  1.5167e+01,  2.2409e+01,\n          1.3144e+00,  4.0139e+00,  4.2030e-01,  4.7308e+00, -2.0866e+01,\n         -9.0781e+00,  1.4860e+01,  3.8970e+00,  2.3749e+01,  1.3475e+01,\n          1.0540e+01,  2.3118e+00, -2.7652e+00, -6.5395e+00, -1.7619e+01,\n         -8.9705e+00,  6.6263e+00,  3.8846e-01,  1.5535e+01,  1.7114e+01,\n          2.8681e+00,  1.1232e+00,  1.1572e+01,  9.5996e+00, -9.7979e+00,\n         -8.7267e+00,  1.5043e+01,  1.0380e+00,  2.7419e+01,  4.3100e+00,\n         -3.6569e+00,  5.1461e+00,  6.9102e+00,  1.2697e+00, -1.0578e+01,\n         -3.6971e+00,  8.8971e+00,  5.1113e+00,  1.4181e+01,  1.3434e+01,\n          2.2785e+00, -2.0595e+00,  7.2805e+00,  1.2390e+00, -1.1407e+01,\n         -9.7373e+00,  1.1250e+01, -2.0262e-01,  1.7458e+01,  1.2570e+01,\n         -5.4262e+00,  4.2138e+00,  4.6511e+00, -8.3830e-01, -1.7505e+01,\n         -1.7944e+01,  7.8026e-01,  2.0950e+01,  9.6599e+00,  1.0497e+01,\n          1.7219e+01,  9.8879e+00,  4.1361e+00,  6.9451e+00, -1.7352e+01,\n         -1.6910e+01,  1.8638e+01,  2.6186e+00,  1.7325e+01,  1.0933e+01,\n          5.8401e+00,  2.1566e-02,  1.8127e+01,  1.4644e+00, -8.4210e+00,\n         -1.6342e+01,  6.9541e+00, -2.2062e+00,  2.4025e+01,  1.5825e+01,\n          4.7260e+00,  1.1261e+01, -1.7309e-01,  7.6511e+00, -9.5367e+00,\n         -6.6577e+00,  4.2795e+00,  1.0538e+01,  1.7293e+01,  1.3035e+01,\n          9.7806e+00,  1.8119e+01,  6.8907e+00,  5.6551e+00, -1.2762e+01,\n         -7.6279e+00,  9.2517e+00,  9.0940e+00,  2.0045e+01,  1.3524e+01,\n          5.5511e+00, -5.2320e-01, -6.5484e-02,  1.0506e+00, -1.9594e+00,\n         -1.1991e+01,  2.4438e+00,  2.4358e+00,  1.8417e+01,  1.0533e+01,\n          1.0716e+00,  8.8581e+00,  9.1178e+00,  5.9196e+00, -1.7569e+01,\n         -1.1353e+01,  1.4647e+01,  8.5017e-01,  2.1970e+01,  7.0633e+00,\n         -3.9767e+00,  4.5980e+00,  4.0702e-02,  9.8782e+00, -1.5128e+01,\n         -6.1857e+00,  1.5443e+01,  8.6227e+00,  1.1682e+01,  1.0797e+01,\n         -5.3039e+00,  6.9430e+00,  1.0780e+01,  3.8797e+00, -1.4687e+01,\n         -1.2744e+01,  1.1017e+01,  6.7300e+00,  2.6848e+01,  5.8696e+00,\n          9.6435e+00,  4.2614e+00,  6.0373e+00,  1.9112e+00, -2.5510e+00,\n         -8.7991e+00,  3.0414e+00,  7.7335e-02,  2.3758e+01,  9.6428e+00,\n          7.5750e+00,  7.3290e+00,  3.5393e+00,  8.1111e+00, -2.1185e+01,\n         -1.3193e+01,  3.6453e+00,  8.7672e+00,  8.9967e+00,  1.5043e+01,\n          7.4396e-01,  6.1636e+00,  5.2675e+00, -8.8606e-01, -1.0173e+01,\n         -6.1038e+00,  1.7206e+01,  3.0027e+00,  1.4510e+01,  7.8122e+00,\n         -2.3032e+00,  1.2048e+01,  4.6868e+00,  5.7927e+00, -2.6975e+00,\n         -1.0300e+01,  1.1317e+01,  4.6641e+00,  2.2723e+01,  7.3742e+00,\n         -7.7054e+00,  2.2844e+00,  4.2159e+00,  8.7285e+00, -1.2309e+01,\n         -2.3379e+01,  1.3217e+01, -2.4183e+00,  1.4233e+01,  1.1797e+01,\n         -3.9088e-01,  1.3310e+00,  2.4625e-01,  4.9858e+00, -7.6735e+00,\n         -1.3910e+00,  1.1092e+00,  1.0996e+01,  2.2639e+01,  9.2194e+00,\n          1.1494e+01,  1.3147e+01, -1.9567e+00,  8.9536e+00, -2.4079e+01,\n         -1.3435e+01,  9.6466e+00,  2.8963e+00,  1.9764e+01,  1.5550e+01,\n          8.4562e+00,  1.2745e+01,  1.2194e+01, -1.4044e+00, -8.0782e+00,\n         -1.0705e+01,  7.0123e+00,  7.2550e+00,  2.0318e+01,  8.6854e+00,\n          8.6725e+00,  1.1749e+01,  3.5576e+00,  1.5643e+01, -7.1380e+00,\n         -1.0878e+01,  7.1067e+00,  4.2926e+00,  1.6845e+01,  1.1575e+01,\n         -3.4577e+00,  8.1306e+00, -1.5019e+00,  1.0471e+00, -1.1438e+01,\n         -1.5059e+01,  2.1119e+01,  2.8758e-01,  1.7046e+01,  1.6154e+01,\n          8.7370e+00,  3.5828e+00,  7.1143e+00,  2.2163e+00, -6.8572e+00,\n         -6.6947e+00,  7.3682e+00,  1.9699e+00,  1.6775e+01,  1.4355e+01,\n          1.3613e+00, -2.4485e+00,  7.5972e+00,  1.5770e+00, -1.0498e+01,\n         -1.3333e+01,  1.5343e+01,  2.6771e+00,  2.5967e+01,  1.6454e+01,\n          3.5209e+00,  3.0005e+00,  5.7948e-01,  6.1853e+00, -7.7402e+00,\n         -1.4990e+01,  2.8751e+00,  5.8684e+00,  8.7952e+00,  3.0118e+00,\n          1.8123e+01,  1.1497e+00,  4.6647e+00, -4.6333e+00, -1.4725e+01,\n         -9.0790e+00,  6.5293e+00,  1.3705e+01,  1.2260e+01,  1.1941e+01,\n          9.9974e+00,  1.3432e+01,  1.3125e+01,  3.9707e+00, -1.5154e+01,\n         -8.5566e+00,  9.8931e+00,  2.4217e+00,  1.9309e+01,  1.1172e+01,\n          2.6257e+00,  6.1852e+00, -6.6821e-01,  4.9185e+00, -2.0285e+01,\n         -1.8146e+01,  1.9663e+01, -3.2652e+00,  1.7999e+01,  6.8913e+00,\n         -1.2058e+00,  5.4675e+00,  5.3403e+00,  5.2114e+00, -5.1151e+00,\n         -1.1035e+01,  1.0808e+01,  9.1578e+00,  1.5240e+01,  1.8074e+01,\n          9.0706e-01,  7.1716e+00,  7.5012e-01,  7.3907e+00, -8.0688e+00],\n        [-1.0656e+01,  1.2897e+01,  6.6467e+00,  1.9744e+01,  8.9134e+00,\n          1.7182e+00,  1.6541e+01,  1.2147e+01,  1.1490e+01, -1.2048e+01,\n         -1.2866e+01,  5.0441e+00,  8.7171e+00,  2.3007e+01,  1.7752e+01,\n          5.4285e+00,  6.3190e+00,  1.1729e+01,  8.1214e+00, -3.5099e+00,\n         -1.0199e+01,  9.5062e+00, -1.3763e+00,  2.2964e+01,  1.0925e+01,\n         -2.8883e-01,  8.2534e+00, -2.7118e+00,  1.5908e+00, -2.2159e+01,\n         -7.8709e+00,  6.0870e+00, -7.8886e-01,  1.4059e+01,  1.5144e+01,\n          6.2842e+00,  9.6732e+00,  9.2493e+00, -6.9920e+00, -1.4807e+01,\n         -6.3339e+00,  1.8642e+01,  3.4671e+00,  1.6779e+01,  1.0874e+01,\n         -1.1022e+00,  2.9535e+00,  5.5275e+00,  6.3028e+00, -1.7430e+01,\n         -1.1107e+01,  1.4132e+01,  3.8694e-01,  1.7018e+01,  1.1043e+01,\n          4.3683e+00, -2.2545e+00,  1.1046e+01, -2.4353e+00, -1.1302e+01,\n         -2.9806e+00,  1.5786e+01, -1.9112e+00,  1.9356e+01,  7.1834e+00,\n         -6.1412e+00,  2.6100e+00,  6.8538e+00,  2.4012e+00, -6.3550e+00,\n         -8.5887e+00,  1.7704e+01,  4.5043e+00,  1.3657e+01,  1.2956e+01,\n          2.2019e+00,  2.4693e+00,  3.6488e-03,  6.6072e+00, -1.3971e+01,\n         -8.4581e+00,  3.2722e+00, -1.5302e+00,  1.5465e+01,  1.0847e+01,\n          8.0799e+00,  4.7659e-02,  3.7686e+00, -2.5792e+00, -1.7426e+01,\n         -1.4898e+01, -8.9539e+00,  8.5626e+00,  8.0127e+00,  1.1781e+01,\n          1.0598e+01,  5.8530e+00, -4.7624e+00,  3.8161e+00, -2.6401e+01,\n         -8.7033e+00,  6.7800e+00,  6.6249e+00,  1.4846e+01,  1.4067e+01,\n         -2.5246e+00,  6.3779e+00, -1.3005e+00,  4.6251e+00, -2.0345e+01,\n         -8.7595e+00,  1.6720e+01,  3.3384e+00,  1.4991e+01,  1.2953e+01,\n         -2.0642e+00,  7.7336e-01, -1.3810e+00,  3.1083e+00, -1.3027e+01,\n         -1.1600e+01,  1.1834e+01,  8.4884e+00,  2.0323e+01,  5.3045e+00,\n          2.1867e+00,  2.1897e+00,  3.3214e+00,  8.5428e+00, -1.7548e+01,\n         -4.5251e+00,  1.2386e+01,  7.1494e+00,  2.2077e+01,  6.0994e+00,\n          9.6308e+00,  8.2705e+00, -5.4451e+00,  5.8295e+00, -1.1127e+01,\n         -1.0224e+01,  8.0415e+00, -9.0855e+00,  1.9997e+01,  1.7193e+01,\n          5.9817e+00,  6.6548e+00,  2.5114e+00,  8.9742e+00, -9.3223e+00,\n         -6.4718e+00,  1.0279e+01,  4.2461e+00,  1.8003e+01,  1.1484e+01,\n          6.3965e+00,  5.3973e+00,  1.0477e+01,  5.2469e+00, -1.3929e+01,\n         -1.6365e+01,  3.4556e+00, -5.3108e+00,  8.4626e+00,  1.5639e+01,\n          1.4965e+01,  9.6758e+00,  8.6000e+00,  2.8656e+00, -1.2832e+01,\n         -1.0981e+01,  9.6757e+00,  1.9706e-01,  2.8198e+01,  1.1516e+01,\n          8.2101e+00,  1.5031e+01,  7.4541e+00,  1.0525e+01, -1.2141e+01,\n          1.9640e+00,  1.7736e+01,  2.7000e+00,  2.6801e+01, -7.4297e-02,\n         -2.3116e+00,  5.1774e+00,  8.2887e+00,  1.8355e+00, -1.0556e+01,\n         -1.3453e+01,  1.5191e+01,  3.1479e+00,  2.3467e+01,  1.3138e+01,\n          1.0191e+00, -2.1342e+00,  5.8251e+00,  1.3939e+00, -2.3276e+01,\n         -4.3831e+00,  1.3713e+01,  4.3525e+00,  1.7601e+01,  7.3405e+00,\n         -4.9126e+00,  8.5356e+00,  4.3988e+00,  7.3073e+00, -5.8150e+00,\n         -8.3756e+00,  7.2919e+00,  1.2500e+01,  1.5817e+01,  5.6409e+00,\n          7.0002e+00, -1.1568e-02,  5.4946e+00,  9.1278e+00, -1.1258e+01,\n         -3.1259e+00,  8.8373e+00,  1.6051e+00,  1.5539e+01,  1.5590e+01,\n         -2.0513e+00,  8.4198e+00,  3.0486e+00,  2.1692e+00, -1.8200e+01,\n         -9.4244e+00,  1.3970e+01,  1.4637e+01,  1.3138e+01,  1.0552e+01,\n          1.2637e+01,  6.8354e+00,  2.2704e-01,  2.6145e+00, -1.6779e+01,\n         -1.0452e+01, -8.8686e-01,  8.7255e-02,  1.1618e+01,  6.3788e+00,\n          6.5206e+00,  8.9835e+00,  2.2730e+00,  1.1840e+01, -2.0612e+01,\n         -1.9296e+01,  1.0095e+01, -2.8387e+00,  2.1486e+01,  1.5579e+01,\n          1.7904e+00, -5.1031e-01,  4.2733e+00,  4.8720e+00, -7.5192e+00,\n         -2.1234e+01,  7.1694e+00,  5.4652e+00,  2.2404e+01,  1.2479e+01,\n          9.3602e+00,  7.0594e+00,  6.2920e+00,  9.3069e+00, -5.5922e+00,\n         -1.4597e+01,  1.5253e+01,  6.5153e-02,  2.0993e+01,  5.3373e+00,\n          9.9424e+00,  2.2833e+00,  9.0572e+00,  2.3384e+00, -2.0585e+00,\n         -1.4382e+01,  1.4943e+01,  1.4366e+01,  2.8533e+01,  1.5381e+01,\n          7.4042e+00,  1.0162e+01,  8.0755e+00,  2.6089e+00, -1.2600e+01,\n         -9.8560e+00,  1.9863e+01,  9.7575e-01,  2.0380e+01,  1.8207e+01,\n          4.0206e+00,  5.0498e+00,  3.7460e+00,  9.5190e+00, -1.1466e+01,\n         -1.4273e+01,  1.3378e+01,  5.1485e+00,  2.1406e+01,  9.6057e+00,\n         -2.9451e+00,  1.5324e+00,  3.0703e+00,  1.1138e+01, -1.4025e+01,\n         -1.3055e+01,  8.5921e+00,  4.9083e+00,  1.3332e+01,  1.8765e+01,\n          2.4683e+00, -7.4501e-01,  7.2793e+00,  5.0576e+00, -1.7205e+01]])"
     },
     "metadata": {},
     "output_type": "execute_result",
     "execution_count": 5
    }
   ],
   "source": [
    "## Your solution\n",
    "def activation(x):\n",
    "    return 1/(1+torch.exp(-x))\n",
    "\n",
    "inputs = images.view(images.shape[0],-1)\n",
    "\n",
    "w1 = torch.randn(784,256)\n",
    "b1 = torch.randn(256)\n",
    "\n",
    "w2 = torch.randn(256,10)\n",
    "b2 = torch.randn(10)\n",
    "\n",
    "print(inputs.size())\n",
    "print(w1.size())\n",
    "\n",
    "h = activation(torch.mm(inputs,w1)+b1)\n",
    "print(h.size())\n",
    "out = torch.mm(h,w2)+b2\n",
    "print(out.size())\n",
    "out.view(2,-1)\n",
    "\n",
    "# out = # output of your network, should have shape (64,10)"
   ]
  },
  {
   "cell_type": "markdown",
   "metadata": {},
   "source": [
    "Now we have 10 outputs for our network. We want to pass in an image to our network and get out a probability distribution over the classes that tells us the likely class(es) the image belongs to. Something that looks like this:\n",
    "<img src='assets/image_distribution.png' width=500px>\n",
    "\n",
    "Here we see that the probability for each class is roughly the same. This is representing an untrained network, it hasn't seen any data yet so it just returns a uniform distribution with equal probabilities for each class.\n",
    "\n",
    "To calculate this probability distribution, we often use the [**softmax** function](https://en.wikipedia.org/wiki/Softmax_function). Mathematically this looks like\n",
    "\n",
    "$$\n",
    "\\Large \\sigma(x_i) = \\cfrac{e^{x_i}}{\\sum_k^K{e^{x_k}}}\n",
    "$$\n",
    "\n",
    "What this does is squish each input $x_i$ between 0 and 1 and normalizes the values to give you a proper probability distribution where the probabilites sum up to one.\n",
    "\n",
    "> **Exercise:** Implement a function `softmax` that performs the softmax calculation and returns probability distributions for each example in the batch. Note that you'll need to pay attention to the shapes when doing this. If you have a tensor `a` with shape `(64, 10)` and a tensor `b` with shape `(64,)`, doing `a/b` will give you an error because PyTorch will try to do the division across the columns (called broadcasting) but you'll get a size mismatch. The way to think about this is for each of the 64 examples, you only want to divide by one value, the sum in the denominator. So you need `b` to have a shape of `(64, 1)`. This way PyTorch will divide the 10 values in each row of `a` by the one value in each row of `b`. Pay attention to how you take the sum as well. You'll need to define the `dim` keyword in `torch.sum`. Setting `dim=0` takes the sum across the rows while `dim=1` takes the sum across the columns."
   ]
  },
  {
   "cell_type": "code",
   "execution_count": 6,
   "metadata": {
    "pycharm": {
     "is_executing": false
    }
   },
   "outputs": [
    {
     "name": "stdout",
     "text": [
      "learn\n",
      "tensor([5.4010e+09, 2.0612e+10, 3.2775e+07, 8.0901e+11, 2.1331e+06, 3.8546e+07,\n",
      "        1.2849e+09, 2.3233e+08, 2.7171e+10, 1.0683e+08, 5.0802e+08, 9.9728e+07,\n",
      "        3.4801e+09, 5.3127e+06, 4.5725e+11, 2.0806e+10, 3.4295e+06, 3.1853e+07,\n",
      "        7.3891e+09, 2.2008e+06, 6.7902e+09, 3.8937e+08, 6.7318e+08, 2.0800e+07,\n",
      "        1.5205e+09, 2.0998e+07, 1.8944e+11, 7.4244e+07, 2.4656e+06, 2.4320e+08,\n",
      "        4.1189e+08, 7.4903e+07, 3.9151e+08, 9.8678e+09, 9.4032e+09, 5.0769e+06,\n",
      "        1.4415e+08, 2.6092e+07, 2.6211e+08, 5.0093e+07, 5.2564e+06, 1.7942e+05,\n",
      "        4.0899e+06, 2.1926e+07, 6.7058e+08, 3.8710e+09, 5.1313e+08, 6.6018e+07,\n",
      "        9.3781e+06, 1.7637e+12, 4.3623e+11, 1.5545e+10, 4.4989e+07, 7.6827e+06,\n",
      "        1.1515e+07, 4.2969e+06, 2.5906e+05, 2.1500e+09, 5.3708e+09, 1.3145e+09,\n",
      "        2.4640e+12, 1.2130e+09, 1.9806e+09, 1.4172e+08])\n",
      "learn\n",
      "torch.Size([64, 10])\n",
      "torch.Size([10])\n",
      "torch.Size([64, 10])\n",
      "torch.Size([64])\n"
     ],
     "output_type": "stream"
    }
   ],
   "source": [
    "# arnob = torch.randn(2,3)\n",
    "# print(arnob)\n",
    "# print(\"torch arnob exp\")\n",
    "# print((arnob).view(-1,1))\n",
    "# print((torch.exp(arnob)).view(-1,1))\n",
    "print(\"learn\")\n",
    "print(torch.sum(torch.exp(out),dim = 1))\n",
    "print(\"learn\")\n",
    "def softmax(x):\n",
    "    return torch.exp(x)/torch.sum(torch.exp(x),dim = 1).view(-1,1)\n",
    "\n",
    "    ## TODO: Implement the softmax function here\n",
    "print(out.size())\n",
    "print(torch.sum(torch.exp(out),dim =0).size())\n",
    "# Here, out should be the output of the network in the previous excercise with shape (64,10)\n",
    "probabilities = softmax(out)\n",
    "\n",
    "# Does it have the right shape? Should be (64, 10)\n",
    "print(probabilities.shape)\n",
    "# Does it sum to 1?\n",
    "print(probabilities.sum(dim=1).size())"
   ]
  },
  {
   "cell_type": "markdown",
   "metadata": {},
   "source": [
    "## Building networks with PyTorch\n",
    "\n",
    "PyTorch provides a module `nn` that makes building networks much simpler. Here I'll show you how to build the same one as above with 784 inputs, 256 hidden units, 10 output units and a softmax output."
   ]
  },
  {
   "cell_type": "code",
   "execution_count": 7,
   "metadata": {
    "pycharm": {
     "is_executing": false
    }
   },
   "outputs": [],
   "source": [
    "from torch import nn"
   ]
  },
  {
   "cell_type": "code",
   "execution_count": 8,
   "metadata": {
    "pycharm": {
     "is_executing": false
    }
   },
   "outputs": [],
   "source": [
    "class Network(nn.Module):\n",
    "    def __init__(self):\n",
    "        super().__init__()\n",
    "        \n",
    "        # Inputs to hidden layer linear transformation\n",
    "        self.hidden = nn.Linear(784, 256)\n",
    "        # Output layer, 10 units - one for each digit\n",
    "        self.output = nn.Linear(256, 10)\n",
    "        \n",
    "        # Define sigmoid activation and softmax output \n",
    "        self.sigmoid = nn.Sigmoid()\n",
    "        self.softmax = nn.Softmax(dim=1)\n",
    "        \n",
    "    def forward(self, x):\n",
    "        # Pass the input tensor through each of our operations\n",
    "        x = self.hidden(x)\n",
    "        x = self.sigmoid(x)\n",
    "        x = self.output(x)\n",
    "        x = self.softmax(x)\n",
    "        \n",
    "        return x"
   ]
  },
  {
   "cell_type": "markdown",
   "metadata": {},
   "source": [
    "Let's go through this bit by bit.\n",
    "\n",
    "```python\n",
    "class Network(nn.Module):\n",
    "```\n",
    "\n",
    "Here we're inheriting from `nn.Module`. Combined with `super().__init__()` this creates a class that tracks the architecture and provides a lot of useful methods and attributes. It is mandatory to inherit from `nn.Module` when you're creating a class for your network. The name of the class itself can be anything.\n",
    "\n",
    "```python\n",
    "self.hidden = nn.Linear(784, 256)\n",
    "```\n",
    "\n",
    "This line creates a module for a linear transformation, $x\\mathbf{W} + b$, with 784 inputs and 256 outputs and assigns it to `self.hidden`. The module automatically creates the weight and bias tensors which we'll use in the `forward` method. You can access the weight and bias tensors once the network (`net`) is created with `net.hidden.weight` and `net.hidden.bias`.\n",
    "\n",
    "```python\n",
    "self.output = nn.Linear(256, 10)\n",
    "```\n",
    "\n",
    "Similarly, this creates another linear transformation with 256 inputs and 10 outputs.\n",
    "\n",
    "```python\n",
    "self.sigmoid = nn.Sigmoid()\n",
    "self.softmax = nn.Softmax(dim=1)\n",
    "```\n",
    "\n",
    "Here I defined operations for the sigmoid activation and softmax output. Setting `dim=1` in `nn.Softmax(dim=1)` calculates softmax across the columns.\n",
    "\n",
    "```python\n",
    "def forward(self, x):\n",
    "```\n",
    "\n",
    "PyTorch networks created with `nn.Module` must have a `forward` method defined. It takes in a tensor `x` and passes it through the operations you defined in the `__init__` method.\n",
    "\n",
    "```python\n",
    "x = self.hidden(x)\n",
    "x = self.sigmoid(x)\n",
    "x = self.output(x)\n",
    "x = self.softmax(x)\n",
    "```\n",
    "\n",
    "Here the input tensor `x` is passed through each operation and reassigned to `x`. We can see that the input tensor goes through the hidden layer, then a sigmoid function, then the output layer, and finally the softmax function. It doesn't matter what you name the variables here, as long as the inputs and outputs of the operations match the network architecture you want to build. The order in which you define things in the `__init__` method doesn't matter, but you'll need to sequence the operations correctly in the `forward` method.\n",
    "\n",
    "Now we can create a `Network` object."
   ]
  },
  {
   "cell_type": "code",
   "execution_count": 9,
   "metadata": {
    "pycharm": {
     "is_executing": false
    }
   },
   "outputs": [
    {
     "data": {
      "text/plain": "Network(\n  (hidden): Linear(in_features=784, out_features=256, bias=True)\n  (output): Linear(in_features=256, out_features=10, bias=True)\n  (sigmoid): Sigmoid()\n  (softmax): Softmax(dim=1)\n)"
     },
     "metadata": {},
     "output_type": "execute_result",
     "execution_count": 9
    }
   ],
   "source": [
    "# Create the network and look at it's text representation\n",
    "model = Network()\n",
    "model"
   ]
  },
  {
   "cell_type": "markdown",
   "metadata": {},
   "source": [
    "You can define the network somewhat more concisely and clearly using the `torch.nn.functional` module. This is the most common way you'll see networks defined as many operations are simple element-wise functions. We normally import this module as `F`, `import torch.nn.functional as F`."
   ]
  },
  {
   "cell_type": "code",
   "execution_count": 10,
   "metadata": {
    "pycharm": {
     "is_executing": false
    }
   },
   "outputs": [],
   "source": [
    "import torch.nn.functional as F\n",
    "\n",
    "class Network(nn.Module):\n",
    "    def __init__(self):\n",
    "        super().__init__()\n",
    "        # Inputs to hidden layer linear transformation\n",
    "        self.hidden = nn.Linear(784, 256)\n",
    "        # Output layer, 10 units - one for each digit\n",
    "        self.output = nn.Linear(256, 10)\n",
    "        \n",
    "    def forward(self, x):\n",
    "        # Hidden layer with sigmoid activation\n",
    "        x = F.sigmoid(self.hidden(x))\n",
    "        # Output layer with softmax activation\n",
    "        x = F.softmax(self.output(x), dim=1)\n",
    "        \n",
    "        return x"
   ]
  },
  {
   "cell_type": "markdown",
   "metadata": {},
   "source": [
    "### Activation functions\n",
    "\n",
    "So far we've only been looking at the sigmoid activation function, but in general any function can be used as an activation function. The only requirement is that for a network to approximate a non-linear function, the activation functions must be non-linear. Here are a few more examples of common activation functions: Tanh (hyperbolic tangent), and ReLU (rectified linear unit).\n",
    "\n",
    "<img src=\"assets/activation.png\" width=700px>\n",
    "\n",
    "In practice, the ReLU function is used almost exclusively as the activation function for hidden layers."
   ]
  },
  {
   "cell_type": "markdown",
   "metadata": {},
   "source": [
    "### Your Turn to Build a Network\n",
    "\n",
    "<img src=\"assets/mlp_mnist.png\" width=600px>\n",
    "\n",
    "> **Exercise:** Create a network with 784 input units, a hidden layer with 128 units and a ReLU activation, then a hidden layer with 64 units and a ReLU activation, and finally an output layer with a softmax activation as shown above. You can use a ReLU activation with the `nn.ReLU` module or `F.relu` function.\n",
    "\n",
    "It's good practice to name your layers by their type of network, for instance 'fc' to represent a fully-connected layer. As you code your solution, use `fc1`, `fc2`, and `fc3` as your layer names."
   ]
  },
  {
   "cell_type": "code",
   "execution_count": 11,
   "metadata": {
    "scrolled": true,
    "pycharm": {
     "is_executing": false
    }
   },
   "outputs": [
    {
     "data": {
      "text/plain": "Network(\n  (fc1): Linear(in_features=784, out_features=128, bias=True)\n  (fc2): Linear(in_features=128, out_features=64, bias=True)\n  (fc3): Linear(in_features=64, out_features=10, bias=True)\n)"
     },
     "metadata": {},
     "output_type": "execute_result",
     "execution_count": 11
    }
   ],
   "source": [
    "## Your solution here\n",
    "import torch.nn.functional as F\n",
    "from torch import nn \n",
    "\n",
    "class Network(nn.Module):\n",
    "    def __init__(self):\n",
    "        super().__init__()\n",
    "        self.fc1 = nn.Linear(784,128)\n",
    "        self.fc2 = nn.Linear(128,64)\n",
    "#         output\n",
    "        self.fc3 = nn.Linear(64,10)\n",
    "    \n",
    "    def forward(self,x):\n",
    "        x = self.fc1(x)\n",
    "        x = F.relu(x)\n",
    "        x = self.fc2(x)\n",
    "        x = F.relu(x)\n",
    "        x = self.fc3(x)\n",
    "        x = F.softmax(x,dim=1)\n",
    "        \n",
    "        return x\n",
    "    \n",
    "model = Network()\n",
    "model"
   ]
  },
  {
   "cell_type": "markdown",
   "metadata": {},
   "source": [
    "### Initializing weights and biases\n",
    "\n",
    "The weights and such are automatically initialized for you, but it's possible to customize how they are initialized. The weights and biases are tensors attached to the layer you defined, you can get them with `model.fc1.weight` for instance."
   ]
  },
  {
   "cell_type": "code",
   "execution_count": 12,
   "metadata": {
    "pycharm": {
     "is_executing": false
    }
   },
   "outputs": [
    {
     "name": "stdout",
     "text": [
      "Parameter containing:\n",
      "tensor([[-0.0178, -0.0323, -0.0286,  ..., -0.0037,  0.0293,  0.0195],\n",
      "        [ 0.0349,  0.0020, -0.0272,  ..., -0.0264,  0.0114, -0.0134],\n",
      "        [ 0.0292,  0.0268,  0.0150,  ...,  0.0288, -0.0016,  0.0265],\n",
      "        ...,\n",
      "        [ 0.0240,  0.0018,  0.0188,  ..., -0.0029,  0.0346,  0.0231],\n",
      "        [ 0.0158, -0.0161, -0.0293,  ...,  0.0341,  0.0182,  0.0356],\n",
      "        [ 0.0302,  0.0040,  0.0229,  ...,  0.0276,  0.0257, -0.0256]],\n",
      "       requires_grad=True)\n",
      "Parameter containing:\n",
      "tensor([ 0.0312,  0.0289, -0.0186, -0.0270, -0.0082,  0.0331, -0.0007,  0.0193,\n",
      "         0.0254,  0.0180, -0.0244,  0.0149,  0.0210, -0.0328,  0.0309,  0.0153,\n",
      "         0.0315,  0.0341,  0.0185,  0.0217,  0.0021, -0.0207, -0.0249,  0.0166,\n",
      "        -0.0002, -0.0237,  0.0133,  0.0025,  0.0109,  0.0115, -0.0035, -0.0188,\n",
      "        -0.0239,  0.0288,  0.0162, -0.0095, -0.0183,  0.0277,  0.0079, -0.0253,\n",
      "         0.0132,  0.0090,  0.0137,  0.0033, -0.0174,  0.0168,  0.0178,  0.0269,\n",
      "        -0.0145, -0.0070, -0.0206, -0.0247, -0.0031, -0.0122, -0.0003,  0.0333,\n",
      "        -0.0141, -0.0117, -0.0214,  0.0022, -0.0151,  0.0307, -0.0017, -0.0050,\n",
      "         0.0300, -0.0231, -0.0222,  0.0047, -0.0234,  0.0184,  0.0150,  0.0159,\n",
      "         0.0037,  0.0012,  0.0109,  0.0011,  0.0073,  0.0097, -0.0057, -0.0002,\n",
      "         0.0353, -0.0270,  0.0072, -0.0328,  0.0013, -0.0225, -0.0070, -0.0352,\n",
      "         0.0355,  0.0009,  0.0272,  0.0115, -0.0064,  0.0181, -0.0188,  0.0145,\n",
      "         0.0193, -0.0032,  0.0219,  0.0043, -0.0132, -0.0234,  0.0305,  0.0073,\n",
      "        -0.0211,  0.0073,  0.0037,  0.0182, -0.0081, -0.0270,  0.0180,  0.0076,\n",
      "         0.0010, -0.0089,  0.0255,  0.0122,  0.0202, -0.0263, -0.0256,  0.0100,\n",
      "        -0.0039,  0.0055,  0.0291, -0.0072, -0.0045,  0.0188,  0.0176,  0.0316],\n",
      "       requires_grad=True)\n"
     ],
     "output_type": "stream"
    }
   ],
   "source": [
    "print(model.fc1.weight)\n",
    "print(model.fc1.bias)"
   ]
  },
  {
   "cell_type": "markdown",
   "metadata": {},
   "source": [
    "For custom initialization, we want to modify these tensors in place. These are actually autograd *Variables*, so we need to get back the actual tensors with `model.fc1.weight.data`. Once we have the tensors, we can fill them with zeros (for biases) or random normal values."
   ]
  },
  {
   "cell_type": "code",
   "execution_count": 13,
   "metadata": {
    "pycharm": {
     "is_executing": false
    }
   },
   "outputs": [
    {
     "data": {
      "text/plain": "tensor([0., 0., 0., 0., 0., 0., 0., 0., 0., 0., 0., 0., 0., 0., 0., 0., 0., 0., 0., 0., 0., 0., 0., 0.,\n        0., 0., 0., 0., 0., 0., 0., 0., 0., 0., 0., 0., 0., 0., 0., 0., 0., 0., 0., 0., 0., 0., 0., 0.,\n        0., 0., 0., 0., 0., 0., 0., 0., 0., 0., 0., 0., 0., 0., 0., 0., 0., 0., 0., 0., 0., 0., 0., 0.,\n        0., 0., 0., 0., 0., 0., 0., 0., 0., 0., 0., 0., 0., 0., 0., 0., 0., 0., 0., 0., 0., 0., 0., 0.,\n        0., 0., 0., 0., 0., 0., 0., 0., 0., 0., 0., 0., 0., 0., 0., 0., 0., 0., 0., 0., 0., 0., 0., 0.,\n        0., 0., 0., 0., 0., 0., 0., 0.])"
     },
     "metadata": {},
     "output_type": "execute_result",
     "execution_count": 13
    }
   ],
   "source": [
    "# Set biases to all zeros\n",
    "model.fc1.bias.data.fill_(0)"
   ]
  },
  {
   "cell_type": "code",
   "execution_count": 14,
   "metadata": {
    "pycharm": {
     "is_executing": false
    }
   },
   "outputs": [
    {
     "data": {
      "text/plain": "tensor([[-0.0182, -0.0092,  0.0001,  ..., -0.0071, -0.0151, -0.0047],\n        [-0.0047, -0.0144, -0.0067,  ...,  0.0068, -0.0079, -0.0077],\n        [ 0.0030, -0.0110, -0.0157,  ...,  0.0047,  0.0072, -0.0056],\n        ...,\n        [-0.0213, -0.0075,  0.0071,  ..., -0.0015,  0.0033,  0.0010],\n        [ 0.0123, -0.0087,  0.0064,  ...,  0.0008, -0.0002,  0.0013],\n        [-0.0114, -0.0064,  0.0075,  ...,  0.0059,  0.0016, -0.0047]])"
     },
     "metadata": {},
     "output_type": "execute_result",
     "execution_count": 14
    }
   ],
   "source": [
    "# sample from random normal with standard dev = 0.01\n",
    "model.fc1.weight.data.normal_(std=0.01)"
   ]
  },
  {
   "cell_type": "markdown",
   "metadata": {},
   "source": [
    "### Forward pass\n",
    "\n",
    "Now that we have a network, let's see what happens when we pass in an image."
   ]
  },
  {
   "cell_type": "code",
   "execution_count": 15,
   "metadata": {
    "pycharm": {
     "is_executing": false
    }
   },
   "outputs": [
    {
     "data": {
      "text/plain": "<Figure size 432x648 with 2 Axes>",
      "image/png": "[encoded data removed]"
     },
     "metadata": {
      "image/png": {
       "width": 424,
       "height": 235
      },
      "needs_background": "light"
     },
     "output_type": "display_data"
    }
   ],
   "source": [
    "# Grab some data \n",
    "dataiter = iter(trainloader)\n",
    "images, labels = dataiter.next()\n",
    "\n",
    "# Resize images into a 1D vector, new shape is (batch size, color channels, image pixels) \n",
    "images.resize_(64, 1, 784)\n",
    "# or images.resize_(images.shape[0], 1, 784) to automatically get batch size\n",
    "\n",
    "# Forward pass through the network\n",
    "img_idx = 0\n",
    "ps = model.forward(images[img_idx,:])\n",
    "\n",
    "img = images[img_idx]\n",
    "helper.view_classify(img.view(1, 28, 28), ps)"
   ]
  },
  {
   "cell_type": "markdown",
   "metadata": {},
   "source": [
    "As you can see above, our network has basically no idea what this digit is. It's because we haven't trained it yet, all the weights are random!\n",
    "\n",
    "### Using `nn.Sequential`\n",
    "\n",
    "PyTorch provides a convenient way to build networks like this where a tensor is passed sequentially through operations, `nn.Sequential` ([documentation](https://pytorch.org/docs/master/nn.html#torch.nn.Sequential)). Using this to build the equivalent network:"
   ]
  },
  {
   "cell_type": "code",
   "execution_count": 16,
   "metadata": {
    "pycharm": {
     "is_executing": false
    }
   },
   "outputs": [
    {
     "name": "stdout",
     "text": [
      "Sequential(\n",
      "  (0): Linear(in_features=784, out_features=128, bias=True)\n",
      "  (1): ReLU()\n",
      "  (2): Linear(in_features=128, out_features=64, bias=True)\n",
      "  (3): ReLU()\n",
      "  (4): Linear(in_features=64, out_features=10, bias=True)\n",
      "  (5): Softmax(dim=1)\n",
      ")\n"
     ],
     "output_type": "stream"
    },
    {
     "data": {
      "text/plain": "<Figure size 432x648 with 2 Axes>",
      "image/png": "[encoded data removed]"
     },
     "metadata": {
      "image/png": {
       "width": 424,
       "height": 235
      },
      "needs_background": "light"
     },
     "output_type": "display_data"
    }
   ],
   "source": [
    "# Hyperparameters for our network\n",
    "input_size = 784\n",
    "hidden_sizes = [128, 64]\n",
    "output_size = 10\n",
    "\n",
    "# Build a feed-forward network\n",
    "model = nn.Sequential(nn.Linear(input_size, hidden_sizes[0]),\n",
    "                      nn.ReLU(),\n",
    "                      nn.Linear(hidden_sizes[0], hidden_sizes[1]),\n",
    "                      nn.ReLU(),\n",
    "                      nn.Linear(hidden_sizes[1], output_size),\n",
    "                      nn.Softmax(dim=1))\n",
    "print(model)\n",
    "\n",
    "# Forward pass through the network and display output\n",
    "images, labels = next(iter(trainloader))\n",
    "images.resize_(images.shape[0], 1, 784)\n",
    "ps = model.forward(images[0,:])\n",
    "helper.view_classify(images[0].view(1, 28, 28), ps)"
   ]
  },
  {
   "cell_type": "markdown",
   "metadata": {},
   "source": [
    "Here our model is the same as before: 784 input units, a hidden layer with 128 units, ReLU activation, 64 unit hidden layer, another ReLU, then the output layer with 10 units, and the softmax output.\n",
    "\n",
    "The operations are available by passing in the appropriate index. For example, if you want to get first Linear operation and look at the weights, you'd use `model[0]`."
   ]
  },
  {
   "cell_type": "code",
   "execution_count": 17,
   "metadata": {
    "pycharm": {
     "is_executing": false
    }
   },
   "outputs": [
    {
     "name": "stdout",
     "text": [
      "Linear(in_features=784, out_features=128, bias=True)\n"
     ],
     "output_type": "stream"
    },
    {
     "data": {
      "text/plain": "Parameter containing:\ntensor([[-3.4541e-02, -2.2983e-02, -1.6497e-02,  ..., -2.2079e-02,\n          1.1069e-03,  1.6979e-02],\n        [-2.8822e-02,  1.3750e-02, -3.3859e-02,  ..., -2.4383e-02,\n         -3.5636e-02,  2.8357e-02],\n        [ 2.3924e-02,  3.5188e-02, -2.7158e-02,  ...,  9.9827e-03,\n          1.9482e-02, -1.0986e-02],\n        ...,\n        [ 1.6454e-02, -1.1079e-02, -3.4424e-02,  ...,  2.8517e-02,\n          2.0479e-02,  6.1029e-03],\n        [-1.2115e-02,  2.6389e-02,  3.1498e-02,  ..., -1.1899e-05,\n          6.6470e-03,  2.1154e-02],\n        [-2.6503e-02,  2.0177e-02,  2.6804e-02,  ..., -1.9871e-02,\n          2.5744e-02,  3.0888e-02]], requires_grad=True)"
     },
     "metadata": {},
     "output_type": "execute_result",
     "execution_count": 17
    }
   ],
   "source": [
    "print(model[0])\n",
    "model[0].weight"
   ]
  },
  {
   "cell_type": "markdown",
   "metadata": {},
   "source": [
    "You can also pass in an `OrderedDict` to name the individual layers and operations, instead of using incremental integers. Note that dictionary keys must be unique, so _each operation must have a different name_."
   ]
  },
  {
   "cell_type": "code",
   "execution_count": 18,
   "metadata": {
    "pycharm": {
     "is_executing": false
    }
   },
   "outputs": [
    {
     "data": {
      "text/plain": "Sequential(\n  (fc1): Linear(in_features=784, out_features=128, bias=True)\n  (relu1): ReLU()\n  (fc2): Linear(in_features=128, out_features=64, bias=True)\n  (relu2): ReLU()\n  (output): Linear(in_features=64, out_features=10, bias=True)\n  (softmax): Softmax(dim=1)\n)"
     },
     "metadata": {},
     "output_type": "execute_result",
     "execution_count": 18
    }
   ],
   "source": [
    "from collections import OrderedDict\n",
    "model = nn.Sequential(OrderedDict([\n",
    "                      ('fc1', nn.Linear(input_size, hidden_sizes[0])),\n",
    "                      ('relu1', nn.ReLU()),\n",
    "                      ('fc2', nn.Linear(hidden_sizes[0], hidden_sizes[1])),\n",
    "                      ('relu2', nn.ReLU()),\n",
    "                      ('output', nn.Linear(hidden_sizes[1], output_size)),\n",
    "                      ('softmax', nn.Softmax(dim=1))]))\n",
    "model"
   ]
  },
  {
   "cell_type": "markdown",
   "metadata": {},
   "source": [
    "Now you can access layers either by integer or the name"
   ]
  },
  {
   "cell_type": "code",
   "execution_count": 19,
   "metadata": {
    "pycharm": {
     "is_executing": false
    }
   },
   "outputs": [
    {
     "name": "stdout",
     "text": [
      "Linear(in_features=784, out_features=128, bias=True)\n",
      "Linear(in_features=784, out_features=128, bias=True)\n"
     ],
     "output_type": "stream"
    }
   ],
   "source": [
    "print(model[0])\n",
    "print(model.fc1)"
   ]
  },
  {
   "cell_type": "markdown",
   "metadata": {},
   "source": [
    "In the next notebook, we'll see how we can train a neural network to accuractly predict the numbers appearing in the MNIST images."
   ]
  }
 ],
 "metadata": {
  "kernelspec": {
   "display_name": "Python 3",
   "language": "python",
   "name": "python3"
  },
  "language_info": {
   "codemirror_mode": {
    "name": "ipython",
    "version": 3
   },
   "file_extension": ".py",
   "mimetype": "text/x-python",
   "name": "python",
   "nbconvert_exporter": "python",
   "pygments_lexer": "ipython3",
   "version": "3.7.4"
  }
 },
 "nbformat": 4,
 "nbformat_minor": 2
}