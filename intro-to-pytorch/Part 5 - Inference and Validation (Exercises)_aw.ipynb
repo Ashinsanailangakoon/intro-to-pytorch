{
 "cells": [
  {
   "cell_type": "markdown",
   "metadata": {},
   "source": [
    "# Inference and Validation\n",
    "\n",
    "Now that you have a trained network, you can use it for making predictions. This is typically called **inference**, a term borrowed from statistics. However, neural networks have a tendency to perform *too well* on the training data and aren't able to generalize to data that hasn't been seen before. This is called **overfitting** and it impairs inference performance. To test for overfitting while training, we measure the performance on data not in the training set called the **validation** set. \n",
    "\n",
    "We **avoid overfitting through regularization such as dropout** while monitoring the validation performance during training. In this notebook, I'll show you how to do this in PyTorch. \n",
    "\n",
    "As usual, let's start by loading the dataset through torchvision. You'll learn more about torchvision and loading data in a later part. This time we'll be taking advantage of the test set which you can get by setting `train=False` here:\n",
    "\n",
    "```python\n",
    "testset = datasets.FashionMNIST('~/.pytorch/F_MNIST_data/', download=True, train=False, transform=transform)\n",
    "```\n",
    "\n",
    "The test set contains images just like the training set. Typically you'll see 10-20% of the original dataset held out for testing and validation with the rest being used for training."
   ]
  },
  {
   "cell_type": "code",
   "execution_count": 15,
   "metadata": {},
   "outputs": [],
   "source": [
    "import torch\n",
    "from torchvision import datasets, transforms\n",
    "\n",
    "# Define a transform to normalize the data\n",
    "transform = transforms.Compose([transforms.ToTensor(),\n",
    "                                transforms.Normalize((0.5,), (0.5,))])\n",
    "\n",
    "# Download and load the training data\n",
    "trainset = datasets.FashionMNIST('~/.pytorch/F_MNIST_data/', download=True, train=True, transform=transform)\n",
    "trainloader = torch.utils.data.DataLoader(trainset, batch_size=64, shuffle=True)\n",
    "\n",
    "# Download and load the test data\n",
    "testset = datasets.FashionMNIST('~/.pytorch/F_MNIST_data/', download=True, train=False, transform=transform)\n",
    "testloader = torch.utils.data.DataLoader(testset, batch_size=64, shuffle=True)"
   ]
  },
  {
   "cell_type": "markdown",
   "metadata": {},
   "source": [
    "Here I'll create a model like normal, using the same one from my solution for part 4."
   ]
  },
  {
   "cell_type": "code",
   "execution_count": 16,
   "metadata": {},
   "outputs": [],
   "source": [
    "from torch import nn, optim\n",
    "import torch.nn.functional as F\n",
    "\n",
    "class Classifier(nn.Module):\n",
    "    def __init__(self):\n",
    "        super().__init__()\n",
    "        self.fc1 = nn.Linear(784, 256)\n",
    "        self.fc2 = nn.Linear(256, 128)\n",
    "        self.fc3 = nn.Linear(128, 64)\n",
    "        self.fc4 = nn.Linear(64, 10)\n",
    "        \n",
    "    def forward(self, x):\n",
    "        # make sure input tensor is flattened\n",
    "        x = x.view(x.shape[0], -1)\n",
    "        \n",
    "        x = F.relu(self.fc1(x))\n",
    "        x = F.relu(self.fc2(x))\n",
    "        x = F.relu(self.fc3(x))\n",
    "        x = F.log_softmax(self.fc4(x), dim=1)\n",
    "        \n",
    "        return x"
   ]
  },
  {
   "cell_type": "markdown",
   "metadata": {},
   "source": [
    "The goal of validation is to measure the model's performance on data that isn't part of the training set. Performance here is up to the developer to define though. Typically this is just accuracy, the percentage of classes the network predicted correctly. Other options are [precision and recall](https://en.wikipedia.org/wiki/Precision_and_recall#Definition_(classification_context)) and top-5 error rate. We'll focus on accuracy here. First I'll do a forward pass with one batch from the test set."
   ]
  },
  {
   "cell_type": "code",
   "execution_count": 17,
   "metadata": {},
   "outputs": [
    {
     "name": "stdout",
     "output_type": "stream",
     "text": [
      "torch.Size([64, 10])\n"
     ]
    }
   ],
   "source": [
    "model = Classifier()\n",
    "\n",
    "images, labels = next(iter(testloader))\n",
    "# Get the class probabilities\n",
    "logps = model(images)\n",
    "ps = torch.exp(logps)\n",
    "\n",
    "# Make sure the shape is appropriate, we should get 10 class probabilities for 64 examples\n",
    "print(ps.shape)"
   ]
  },
  {
   "cell_type": "markdown",
   "metadata": {},
   "source": [
    "With the probabilities, we can get the most likely class using the `ps.topk` method. This returns the $k$ highest values. Since we just want the most likely class, we can use `ps.topk(1)`. This returns a tuple of the top-$k$ values and the top-$k$ indices. If the highest value is the fifth element, we'll get back 4 as the index."
   ]
  },
  {
   "cell_type": "code",
   "execution_count": 18,
   "metadata": {},
   "outputs": [
    {
     "name": "stdout",
     "output_type": "stream",
     "text": [
      "tensor([[4],\n",
      "        [4],\n",
      "        [4],\n",
      "        [4],\n",
      "        [4],\n",
      "        [5],\n",
      "        [4],\n",
      "        [5],\n",
      "        [5],\n",
      "        [5]])\n",
      "tensor([[0.1144],\n",
      "        [0.1135],\n",
      "        [0.1100],\n",
      "        [0.1132],\n",
      "        [0.1108],\n",
      "        [0.1149],\n",
      "        [0.1153],\n",
      "        [0.1177],\n",
      "        [0.1145],\n",
      "        [0.1142]], grad_fn=<SliceBackward>)\n"
     ]
    }
   ],
   "source": [
    "top_p, top_class = ps.topk(1, dim=1)\n",
    "\n",
    "# Look at the most likely classes for the first 10 examples\n",
    "print(top_class[:10,:])\n",
    "print(top_p[:10,:])"
   ]
  },
  {
   "cell_type": "markdown",
   "metadata": {},
   "source": [
    "Now we can check if the predicted classes match the labels. This is simple to do by equating `top_class` and `labels`, but we have to be careful of the shapes. Here `top_class` is a 2D tensor with shape `(64, 1)` while `labels` is 1D with shape `(64)`. To get the equality to work out the way we want, `top_class` and `labels` must have the same shape.\n",
    "\n",
    "If we do\n",
    "\n",
    "```python\n",
    "equals = top_class == labels\n",
    "```\n",
    "\n",
    "`equals` will have shape `(64, 64)`, try it yourself. What it's doing is comparing the one element in each row of `top_class` with each element in `labels` which returns 64 True/False boolean values for each row."
   ]
  },
  {
   "cell_type": "code",
   "execution_count": 19,
   "metadata": {},
   "outputs": [],
   "source": [
    "equals = top_class == labels.view(*top_class.shape) # <-- why the asterisk?"
   ]
  },
  {
   "cell_type": "markdown",
   "metadata": {},
   "source": [
    "Now we need to calculate the percentage of correct predictions. `equals` has binary values, either 0 or 1. This means that if we just sum up all the values and divide by the number of values, we get the percentage of correct predictions. This is the same operation as taking the mean, so we can get the accuracy with a call to `torch.mean`. If only it was that simple. If you try `torch.mean(equals)`, you'll get an error\n",
    "\n",
    "```\n",
    "RuntimeError: mean is not implemented for type torch.ByteTensor\n",
    "```\n",
    "\n",
    "This happens because `equals` has type `torch.ByteTensor` but `torch.mean` isn't implemented for tensors with that type. So we'll need to convert `equals` to a float tensor. Note that when we take `torch.mean` it returns a scalar tensor, to get the actual value as a float we'll need to do `accuracy.item()`."
   ]
  },
  {
   "cell_type": "code",
   "execution_count": 20,
   "metadata": {},
   "outputs": [
    {
     "name": "stdout",
     "output_type": "stream",
     "text": [
      "Accuracy: 3.125%\n"
     ]
    }
   ],
   "source": [
    "accuracy = torch.mean(equals.type(torch.FloatTensor))\n",
    "print(f'Accuracy: {accuracy.item()*100}%')"
   ]
  },
  {
   "cell_type": "markdown",
   "metadata": {},
   "source": [
    "The network is untrained so it's making random guesses and we should see an accuracy around 10%. Now let's train our network and include our validation pass so we can measure how well the network is performing on the test set. Since we're not updating our parameters in the validation pass, we can speed up our code by turning off gradients using `torch.no_grad()`:\n",
    "\n",
    "```python\n",
    "# turn off gradients\n",
    "with torch.no_grad():\n",
    "    # validation pass here\n",
    "    for images, labels in testloader:\n",
    "        ...\n",
    "```\n",
    "\n",
    ">**Exercise:** Implement the validation loop below and print out the total accuracy after the loop. You can largely copy and paste the code from above, but I suggest typing it in because writing it out yourself is essential for building the skill. In general you'll always learn more by typing it rather than copy-pasting. You should be able to get an accuracy above 80%."
   ]
  },
  {
   "cell_type": "code",
   "execution_count": 21,
   "metadata": {},
   "outputs": [
    {
     "name": "stdout",
     "output_type": "stream",
     "text": [
      "Epoch 0\n",
      "Training loss: 0.5117\n",
      "Test loss: 0.4505\n",
      "Test accuracy: 0.8355\n",
      "Epoch 1\n",
      "Training loss: 0.3895\n",
      "Test loss: 0.4200\n",
      "Test accuracy: 0.8531\n",
      "Epoch 2\n",
      "Training loss: 0.3597\n",
      "Test loss: 0.3948\n",
      "Test accuracy: 0.8608\n",
      "Epoch 3\n",
      "Training loss: 0.3339\n",
      "Test loss: 0.3677\n",
      "Test accuracy: 0.8709\n",
      "Epoch 4\n",
      "Training loss: 0.3166\n",
      "Test loss: 0.3755\n",
      "Test accuracy: 0.8665\n",
      "Epoch 5\n",
      "Training loss: 0.3013\n",
      "Test loss: 0.3779\n",
      "Test accuracy: 0.8652\n",
      "Epoch 6\n",
      "Training loss: 0.2913\n",
      "Test loss: 0.3904\n",
      "Test accuracy: 0.8627\n",
      "Epoch 7\n",
      "Training loss: 0.2827\n",
      "Test loss: 0.3579\n",
      "Test accuracy: 0.8750\n",
      "Epoch 8\n",
      "Training loss: 0.2736\n",
      "Test loss: 0.3734\n",
      "Test accuracy: 0.8703\n",
      "Epoch 9\n",
      "Training loss: 0.2720\n",
      "Test loss: 0.3985\n",
      "Test accuracy: 0.8653\n",
      "Epoch 10\n",
      "Training loss: 0.2634\n",
      "Test loss: 0.3809\n",
      "Test accuracy: 0.8709\n",
      "Epoch 11\n",
      "Training loss: 0.2558\n",
      "Test loss: 0.3701\n",
      "Test accuracy: 0.8718\n",
      "Epoch 12\n",
      "Training loss: 0.2469\n",
      "Test loss: 0.3523\n",
      "Test accuracy: 0.8794\n",
      "Epoch 13\n",
      "Training loss: 0.2425\n",
      "Test loss: 0.3696\n",
      "Test accuracy: 0.8808\n",
      "Epoch 14\n",
      "Training loss: 0.2365\n",
      "Test loss: 0.4051\n",
      "Test accuracy: 0.8705\n",
      "Epoch 15\n",
      "Training loss: 0.2307\n",
      "Test loss: 0.3918\n",
      "Test accuracy: 0.8792\n",
      "Epoch 16\n",
      "Training loss: 0.2300\n",
      "Test loss: 0.3914\n",
      "Test accuracy: 0.8845\n",
      "Epoch 17\n",
      "Training loss: 0.2239\n",
      "Test loss: 0.4122\n",
      "Test accuracy: 0.8757\n",
      "Epoch 18\n",
      "Training loss: 0.2190\n",
      "Test loss: 0.3534\n",
      "Test accuracy: 0.8866\n",
      "Epoch 19\n",
      "Training loss: 0.2155\n",
      "Test loss: 0.4188\n",
      "Test accuracy: 0.8798\n",
      "Epoch 20\n",
      "Training loss: 0.2141\n",
      "Test loss: 0.3853\n",
      "Test accuracy: 0.8868\n",
      "Epoch 21\n",
      "Training loss: 0.2067\n",
      "Test loss: 0.3969\n",
      "Test accuracy: 0.8789\n",
      "Epoch 22\n",
      "Training loss: 0.2062\n",
      "Test loss: 0.4197\n",
      "Test accuracy: 0.8786\n",
      "Epoch 23\n",
      "Training loss: 0.2048\n",
      "Test loss: 0.3851\n",
      "Test accuracy: 0.8819\n",
      "Epoch 24\n",
      "Training loss: 0.1961\n",
      "Test loss: 0.3772\n",
      "Test accuracy: 0.8834\n",
      "Epoch 25\n",
      "Training loss: 0.1947\n",
      "Test loss: 0.4449\n",
      "Test accuracy: 0.8700\n",
      "Epoch 26\n",
      "Training loss: 0.1900\n",
      "Test loss: 0.3978\n",
      "Test accuracy: 0.8854\n",
      "Epoch 27\n",
      "Training loss: 0.1894\n",
      "Test loss: 0.4271\n",
      "Test accuracy: 0.8797\n",
      "Epoch 28\n",
      "Training loss: 0.1870\n",
      "Test loss: 0.4175\n",
      "Test accuracy: 0.8800\n",
      "Epoch 29\n",
      "Training loss: 0.1887\n",
      "Test loss: 0.4104\n",
      "Test accuracy: 0.8846\n"
     ]
    }
   ],
   "source": [
    "model = Classifier()\n",
    "criterion = nn.NLLLoss()\n",
    "optimizer = optim.Adam(model.parameters(), lr=0.003)\n",
    "\n",
    "epochs = 30\n",
    "steps = 0\n",
    "\n",
    "train_losses, test_losses = [], []\n",
    "for e in range(epochs):\n",
    "    running_loss = 0\n",
    "    print('Epoch', e)\n",
    "    for images, labels in trainloader:\n",
    "        \n",
    "        optimizer.zero_grad()\n",
    "        \n",
    "        log_ps = model(images)\n",
    "        loss = criterion(log_ps, labels)\n",
    "        loss.backward()\n",
    "        optimizer.step()\n",
    "        \n",
    "        running_loss += loss.item()\n",
    "        \n",
    "    else:\n",
    "        ## TODO: Implement the validation pass and print out the validation accuracy\n",
    "        # turn off gradients\n",
    "        test_loss = 0\n",
    "        accuracy = 0\n",
    "        with torch.no_grad():\n",
    "            # validation pass here\n",
    "            for images, labels in testloader:\n",
    "                log_ps = model.forward(images)\n",
    "                ps = torch.exp(log_ps)\n",
    "                \n",
    "                loss = criterion(log_ps, labels)\n",
    "                test_loss += loss\n",
    "                \n",
    "                top_p, top_class = ps.topk(1, dim=1)\n",
    "                equals = top_class == labels.view(*top_class.shape)\n",
    "                accuracy += torch.mean(equals.type(torch.FloatTensor))\n",
    "        \n",
    "        train_losses.append(running_loss/len(trainloader))\n",
    "        test_losses.append(test_loss/len(testloader))\n",
    "        \n",
    "        print('Training loss: {:.4f}'.format(running_loss / len(trainloader)))\n",
    "        print('Test loss: {:.4f}'.format(test_loss / len(testloader)))\n",
    "        print('Test accuracy: {:.4f}'.format(accuracy / len(testloader)))"
   ]
  },
  {
   "cell_type": "code",
   "execution_count": 24,
   "metadata": {},
   "outputs": [],
   "source": [
    "%matplotlib inline\n",
    "%config InlineBackend.figure_format = 'retina'\n",
    "\n",
    "import matplotlib.pyplot as plt"
   ]
  },
  {
   "cell_type": "code",
   "execution_count": 42,
   "metadata": {},
   "outputs": [
    {
     "data": {
      "image/png": "[encoded data removed]",
      "text/plain": [
       "<Figure size 432x288 with 1 Axes>"
      ]
     },
     "metadata": {
      "image/png": {
       "height": 277,
       "width": 393
      },
      "needs_background": "light"
     },
     "output_type": "display_data"
    }
   ],
   "source": [
    "plt.plot(range(epochs), train_losses, label='Training loss')\n",
    "plt.plot(range(epochs), test_losses, label='Validation loss')\n",
    "plt.title('Overfitting in action (*without* dropout)')\n",
    "plt.xlabel('epochs')\n",
    "plt.ylabel('loss')\n",
    "plt.legend(loc='best')\n",
    "plt.show()"
   ]
  },
  {
   "cell_type": "markdown",
   "metadata": {},
   "source": [
    "## Overfitting\n",
    "\n",
    "If we look at the training and validation losses as we train the network, we can see a phenomenon known as overfitting.\n",
    "\n",
    "<img src='assets/overfitting.png' width=450px>\n",
    "\n",
    "The network learns the training set better and better, resulting in lower training losses. However, it starts having problems generalizing to data outside the training set leading to the validation loss increasing. The ultimate goal of any deep learning model is to make predictions on new data, so we should strive to get the lowest validation loss possible.\n",
    "\n",
    "One option is to use the version of the model with the lowest validation loss, here the one around 8-10 training epochs. This strategy is called ***early-stopping***. In practice, you'd save the model frequently as you're training then later choose the model with the lowest validation loss.\n",
    "\n",
    "The most common method to reduce overfitting (outside of early-stopping) is *dropout*, where we randomly drop input units. This forces the network to share information between weights, increasing its ability to generalize to new data. Adding dropout in PyTorch is straightforward using the [`nn.Dropout`](https://pytorch.org/docs/stable/nn.html#torch.nn.Dropout) module.\n",
    "\n",
    "```python\n",
    "class Classifier(nn.Module):\n",
    "    def __init__(self):\n",
    "        super().__init__()\n",
    "        self.fc1 = nn.Linear(784, 256)\n",
    "        self.fc2 = nn.Linear(256, 128)\n",
    "        self.fc3 = nn.Linear(128, 64)\n",
    "        self.fc4 = nn.Linear(64, 10)\n",
    "        \n",
    "        # Dropout module with 0.2 drop probability\n",
    "        self.dropout = nn.Dropout(p=0.2)\n",
    "        \n",
    "    def forward(self, x):\n",
    "        # make sure input tensor is flattened\n",
    "        x = x.view(x.shape[0], -1)\n",
    "        \n",
    "        # Now with dropout\n",
    "        x = self.dropout(F.relu(self.fc1(x)))\n",
    "        x = self.dropout(F.relu(self.fc2(x)))\n",
    "        x = self.dropout(F.relu(self.fc3(x)))\n",
    "        \n",
    "        # output so no dropout here\n",
    "        x = F.log_softmax(self.fc4(x), dim=1)\n",
    "        \n",
    "        return x\n",
    "```\n",
    "\n",
    "**During training we want to use dropout to prevent overfitting, but during inference we want to use the entire network.**\n",
    "\n",
    "So, we need to **turn off dropout during validation, testing**, and whenever we're using the network to make **predictions**. To do this, you use `model.eval()`. This sets the model to evaluation mode where the dropout probability is 0. You can turn dropout back on by setting the model to train mode with `model.train()`. In general, the pattern for the validation loop will look like this, where you turn off gradients, set the model to evaluation mode, calculate the validation loss and metric, then set the model back to train mode.\n",
    "\n",
    "```python\n",
    "# turn off gradients\n",
    "with torch.no_grad():\n",
    "    \n",
    "    # set model to evaluation mode\n",
    "    model.eval()\n",
    "    \n",
    "    # validation pass here\n",
    "    for images, labels in testloader:\n",
    "        ...\n",
    "\n",
    "# set model back to train mode\n",
    "model.train()\n",
    "```"
   ]
  },
  {
   "cell_type": "markdown",
   "metadata": {},
   "source": [
    "> **Exercise:** Add dropout to your model and train it on Fashion-MNIST again. See if you can get a lower validation loss or higher accuracy."
   ]
  },
  {
   "cell_type": "code",
   "execution_count": 36,
   "metadata": {},
   "outputs": [],
   "source": [
    "## TODO: Define your model with dropout added\n",
    "import torch\n",
    "from torch import nn\n",
    "import torch.nn.functional as F\n",
    "\n",
    "input_dims = 28*28\n",
    "hidden_dims = [256, 128, 64]\n",
    "output_dims = 10\n",
    "\n",
    "\n",
    "class FMNISTNet(nn.Module):\n",
    "    def __init__(self):\n",
    "        super().__init__()\n",
    "        self.input_dims = 28*28\n",
    "        self.hidden_dims = [256, 128, 64]\n",
    "        self.output_dims = 10\n",
    "        \n",
    "        self.relu = nn.ReLU()\n",
    "        self.logsoftmax = nn.LogSoftmax(dim=1)\n",
    "        self.dropout = nn.Dropout(p=0.2)\n",
    "        \n",
    "        self.fc1 = nn.Linear(input_dims, hidden_dims[0])\n",
    "        self.fc2 = nn.Linear(hidden_dims[0], hidden_dims[1])\n",
    "        self.fc3 = nn.Linear(hidden_dims[1], hidden_dims[2])\n",
    "        self.fc4 = nn.Linear(hidden_dims[2], output_dims)\n",
    "    \n",
    "    def forward(self, x):\n",
    "        x = x.view(x.shape[0], input_dims)\n",
    "        \n",
    "        x = self.fc1(x)\n",
    "        x = self.relu(x)\n",
    "        x = self.dropout(x)\n",
    "        \n",
    "        x = self.fc2(x)\n",
    "        x = self.relu(x)\n",
    "        x = self.dropout(x)\n",
    "        \n",
    "        x = self.fc3(x)\n",
    "        x = self.relu(x)\n",
    "        x = self.dropout(x)\n",
    "        \n",
    "        x = self.fc4(x)\n",
    "        out = self.logsoftmax(x)\n",
    "        \n",
    "        return out"
   ]
  },
  {
   "cell_type": "code",
   "execution_count": 38,
   "metadata": {},
   "outputs": [
    {
     "name": "stdout",
     "output_type": "stream",
     "text": [
      "epoch 0\n",
      "Training loss: 0.6110\n",
      "Test loss: 0.4779\n",
      "Test accuracy: 0.8279\n",
      "epoch 1\n",
      "Training loss: 0.4838\n",
      "Test loss: 0.4476\n",
      "Test accuracy: 0.8386\n",
      "epoch 2\n",
      "Training loss: 0.4466\n",
      "Test loss: 0.4176\n",
      "Test accuracy: 0.8459\n",
      "epoch 3\n",
      "Training loss: 0.4363\n",
      "Test loss: 0.4048\n",
      "Test accuracy: 0.8590\n",
      "epoch 4\n",
      "Training loss: 0.4231\n",
      "Test loss: 0.4011\n",
      "Test accuracy: 0.8597\n",
      "epoch 5\n",
      "Training loss: 0.4161\n",
      "Test loss: 0.4057\n",
      "Test accuracy: 0.8585\n",
      "epoch 6\n",
      "Training loss: 0.4053\n",
      "Test loss: 0.4150\n",
      "Test accuracy: 0.8546\n",
      "epoch 7\n",
      "Training loss: 0.3997\n",
      "Test loss: 0.3875\n",
      "Test accuracy: 0.8633\n",
      "epoch 8\n",
      "Training loss: 0.3966\n",
      "Test loss: 0.4235\n",
      "Test accuracy: 0.8558\n",
      "epoch 9\n",
      "Training loss: 0.3927\n",
      "Test loss: 0.3915\n",
      "Test accuracy: 0.8620\n",
      "epoch 10\n",
      "Training loss: 0.3880\n",
      "Test loss: 0.3938\n",
      "Test accuracy: 0.8662\n",
      "epoch 11\n",
      "Training loss: 0.3782\n",
      "Test loss: 0.3782\n",
      "Test accuracy: 0.8618\n",
      "epoch 12\n",
      "Training loss: 0.3744\n",
      "Test loss: 0.3710\n",
      "Test accuracy: 0.8721\n",
      "epoch 13\n",
      "Training loss: 0.3772\n",
      "Test loss: 0.3831\n",
      "Test accuracy: 0.8631\n",
      "epoch 14\n",
      "Training loss: 0.3685\n",
      "Test loss: 0.3876\n",
      "Test accuracy: 0.8609\n",
      "epoch 15\n",
      "Training loss: 0.3731\n",
      "Test loss: 0.3778\n",
      "Test accuracy: 0.8641\n",
      "epoch 16\n",
      "Training loss: 0.3664\n",
      "Test loss: 0.3950\n",
      "Test accuracy: 0.8693\n",
      "epoch 17\n",
      "Training loss: 0.3681\n",
      "Test loss: 0.3897\n",
      "Test accuracy: 0.8683\n",
      "epoch 18\n",
      "Training loss: 0.3653\n",
      "Test loss: 0.3854\n",
      "Test accuracy: 0.8638\n",
      "epoch 19\n",
      "Training loss: 0.3564\n",
      "Test loss: 0.3860\n",
      "Test accuracy: 0.8686\n",
      "epoch 20\n",
      "Training loss: 0.3584\n",
      "Test loss: 0.3949\n",
      "Test accuracy: 0.8616\n",
      "epoch 21\n",
      "Training loss: 0.3562\n",
      "Test loss: 0.3851\n",
      "Test accuracy: 0.8667\n",
      "epoch 22\n",
      "Training loss: 0.3601\n",
      "Test loss: 0.3763\n",
      "Test accuracy: 0.8685\n",
      "epoch 23\n",
      "Training loss: 0.3495\n",
      "Test loss: 0.3869\n",
      "Test accuracy: 0.8692\n",
      "epoch 24\n",
      "Training loss: 0.3594\n",
      "Test loss: 0.3707\n",
      "Test accuracy: 0.8703\n",
      "epoch 25\n",
      "Training loss: 0.3552\n",
      "Test loss: 0.3617\n",
      "Test accuracy: 0.8728\n",
      "epoch 26\n",
      "Training loss: 0.3459\n",
      "Test loss: 0.3831\n",
      "Test accuracy: 0.8738\n",
      "epoch 27\n",
      "Training loss: 0.3460\n",
      "Test loss: 0.3668\n",
      "Test accuracy: 0.8738\n",
      "epoch 28\n",
      "Training loss: 0.3377\n",
      "Test loss: 0.3706\n",
      "Test accuracy: 0.8717\n",
      "epoch 29\n",
      "Training loss: 0.3520\n",
      "Test loss: 0.3711\n",
      "Test accuracy: 0.8644\n"
     ]
    }
   ],
   "source": [
    "## TODO: Train your model **with dropout**, and monitor the training progress with the validation loss and accuracy\n",
    "from torch import optim\n",
    "\n",
    "\n",
    "model = FMNISTNet()\n",
    "optimizer = optim.Adam(model.parameters(), lr=0.003)\n",
    "#optimizer = optim.SGD(model.parameters(), lr=0.01)\n",
    "criterion = nn.NLLLoss()\n",
    "\n",
    "epochs = 30\n",
    "train_losses, test_losses = [], []\n",
    "\n",
    "for e in range(epochs):\n",
    "    print('epoch', e)\n",
    "    running_loss = 0\n",
    "    \n",
    "    for images, labels in trainloader:\n",
    "        # Flatten MNIST images into a 784 long vector\n",
    "        images = images.view(images.shape[0], input_dims)\n",
    "        \n",
    "        optimizer.zero_grad()\n",
    "\n",
    "        logps = model.forward(images)\n",
    "        loss = criterion(logps, labels)\n",
    "\n",
    "        loss.backward()\n",
    "        optimizer.step()\n",
    "        running_loss += loss.item()\n",
    "        \n",
    "    else:\n",
    "        test_loss = 0\n",
    "        accuracy = 0\n",
    "        with torch.no_grad():\n",
    "            # validation pass here\n",
    "            model.eval() # turn on eval mode for model\n",
    "            for images, labels in testloader:\n",
    "                log_ps = model.forward(images)\n",
    "                ps = torch.exp(log_ps)\n",
    "\n",
    "                loss = criterion(log_ps, labels)\n",
    "                test_loss += loss\n",
    "\n",
    "                top_p, top_class = ps.topk(1, dim=1)\n",
    "                equals = top_class == labels.view(*top_class.shape)\n",
    "                accuracy += torch.mean(equals.type(torch.FloatTensor))\n",
    "\n",
    "            train_losses.append(running_loss/len(trainloader))\n",
    "            test_losses.append(test_loss/len(testloader))\n",
    "\n",
    "            print('Training loss: {:.4f}'.format(running_loss / len(trainloader)))\n",
    "            print('Test loss: {:.4f}'.format(test_loss / len(testloader)))\n",
    "            print('Test accuracy: {:.4f}'.format(accuracy / len(testloader)))\n",
    "            \n",
    "    model.train() # turn on train mode for model"
   ]
  },
  {
   "cell_type": "code",
   "execution_count": 43,
   "metadata": {},
   "outputs": [
    {
     "data": {
      "image/png": "[encoded data removed]",
      "text/plain": [
       "<Figure size 432x288 with 1 Axes>"
      ]
     },
     "metadata": {
      "image/png": {
       "height": 277,
       "width": 393
      },
      "needs_background": "light"
     },
     "output_type": "display_data"
    }
   ],
   "source": [
    "plt.plot(range(epochs), train_losses, label='Training loss')\n",
    "plt.plot(range(epochs), test_losses, label='Validation loss')\n",
    "plt.title('(Less!) overfitting in action (*with* dropout)')\n",
    "plt.xlabel('epochs')\n",
    "plt.ylabel('loss')\n",
    "plt.legend(loc='best')\n",
    "plt.show()"
   ]
  },
  {
   "cell_type": "markdown",
   "metadata": {},
   "source": [
    "## Inference\n",
    "\n",
    "Now that the model is trained, we can use it for inference. We've done this before, but now we need to remember to set the model in inference mode with `model.eval()`. You'll also want to turn off autograd with the `torch.no_grad()` context."
   ]
  },
  {
   "cell_type": "code",
   "execution_count": 51,
   "metadata": {},
   "outputs": [
    {
     "data": {
      "text/plain": [
       "FMNISTNet(\n",
       "  (relu): ReLU()\n",
       "  (logsoftmax): LogSoftmax()\n",
       "  (dropout): Dropout(p=0.2, inplace=False)\n",
       "  (fc1): Linear(in_features=784, out_features=256, bias=True)\n",
       "  (fc2): Linear(in_features=256, out_features=128, bias=True)\n",
       "  (fc3): Linear(in_features=128, out_features=64, bias=True)\n",
       "  (fc4): Linear(in_features=64, out_features=10, bias=True)\n",
       ")"
      ]
     },
     "execution_count": 51,
     "metadata": {},
     "output_type": "execute_result"
    },
    {
     "data": {
      "image/png": "[encoded data removed]",
      "text/plain": [
       "<Figure size 432x648 with 2 Axes>"
      ]
     },
     "metadata": {
      "image/png": {
       "height": 216,
       "width": 424
      },
      "needs_background": "light"
     },
     "output_type": "display_data"
    }
   ],
   "source": [
    "# Import helper module (should be in the repo)\n",
    "import helper\n",
    "\n",
    "# Turn eval mode on for model. Test out your network!\n",
    "model.eval()\n",
    "\n",
    "dataiter = iter(testloader)\n",
    "images, labels = dataiter.next()\n",
    "img = images[0]\n",
    "# Convert 2D image to 1D vector\n",
    "img = img.view(1, 784)\n",
    "\n",
    "# Calculate the class probabilities (softmax) for img\n",
    "#with torch.no_grad():\n",
    "#    for images, labels in testloader:\n",
    "#        log_ps = model.forward(images)\n",
    "#        ps = torch.exp(log_ps)\n",
    "\n",
    "log_ps = model.forward(img)\n",
    "ps = torch.exp(log_ps)\n",
    "\n",
    "# Plot the image and probabilities\n",
    "helper.view_classify(img.view(1, 28, 28), ps, version='Fashion')\n",
    "\n",
    "# Turn training mode back on for model.\n",
    "model.train()"
   ]
  },
  {
   "cell_type": "markdown",
   "metadata": {},
   "source": [
    "## Next Up!\n",
    "\n",
    "In the next part, I'll show you how to save your trained models. In general, you won't want to train a model everytime you need it. Instead, you'll train once, save it, then load the model when you want to train more or use if for inference."
   ]
  }
 ],
 "metadata": {
  "kernelspec": {
   "display_name": "Python 3",
   "language": "python",
   "name": "python3"
  },
  "language_info": {
   "codemirror_mode": {
    "name": "ipython",
    "version": 3
   },
   "file_extension": ".py",
   "mimetype": "text/x-python",
   "name": "python",
   "nbconvert_exporter": "python",
   "pygments_lexer": "ipython3",
   "version": "3.7.3"
  }
 },
 "nbformat": 4,
 "nbformat_minor": 2
}
