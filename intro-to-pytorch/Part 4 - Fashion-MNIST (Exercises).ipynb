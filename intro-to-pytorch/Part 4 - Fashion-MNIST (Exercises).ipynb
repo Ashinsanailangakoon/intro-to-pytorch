{
 "cells": [
  {
   "cell_type": "markdown",
   "metadata": {},
   "source": [
    "# Classifying Fashion-MNIST\n",
    "\n",
    "Now it's your turn to build and train a neural network. You'll be using the [Fashion-MNIST dataset](https://github.com/zalandoresearch/fashion-mnist), a drop-in replacement for the MNIST dataset. MNIST is actually quite trivial with neural networks where you can easily achieve better than 97% accuracy. Fashion-MNIST is a set of 28x28 greyscale images of clothes. It's more complex than MNIST, so it's a better representation of the actual performance of your network, and a better representation of datasets you'll use in the real world.\n",
    "\n",
    "<img src='assets/fashion-mnist-sprite.png' width=500px>\n",
    "\n",
    "In this notebook, you'll build your own neural network. For the most part, you could just copy and paste the code from Part 3, but you wouldn't be learning. It's important for you to write the code yourself and get it to work. Feel free to consult the previous notebooks though as you work through this.\n",
    "\n",
    "First off, let's load the dataset through torchvision."
   ]
  },
  {
   "cell_type": "code",
   "execution_count": 1,
   "metadata": {},
   "outputs": [
    {
     "name": "stdout",
     "output_type": "stream",
     "text": [
      "Downloading http://fashion-mnist.s3-website.eu-central-1.amazonaws.com/train-images-idx3-ubyte.gz\n",
      "Downloading http://fashion-mnist.s3-website.eu-central-1.amazonaws.com/train-labels-idx1-ubyte.gz\n",
      "Downloading http://fashion-mnist.s3-website.eu-central-1.amazonaws.com/t10k-images-idx3-ubyte.gz\n",
      "Downloading http://fashion-mnist.s3-website.eu-central-1.amazonaws.com/t10k-labels-idx1-ubyte.gz\n",
      "Processing...\n",
      "Done!\n"
     ]
    }
   ],
   "source": [
    "import torch\n",
    "from torchvision import datasets, transforms\n",
    "import helper\n",
    "\n",
    "# Define a transform to normalize the data\n",
    "transform = transforms.Compose([transforms.ToTensor(),\n",
    "                                transforms.Normalize((0.5, 0.5, 0.5), (0.5, 0.5, 0.5))])\n",
    "# Download and load the training data\n",
    "trainset = datasets.FashionMNIST('~/.pytorch/F_MNIST_data/', download=True, train=True, transform=transform)\n",
    "trainloader = torch.utils.data.DataLoader(trainset, batch_size=64, shuffle=True)\n",
    "\n",
    "# Download and load the test data\n",
    "testset = datasets.FashionMNIST('~/.pytorch/F_MNIST_data/', download=True, train=False, transform=transform)\n",
    "testloader = torch.utils.data.DataLoader(testset, batch_size=64, shuffle=True)"
   ]
  },
  {
   "cell_type": "markdown",
   "metadata": {},
   "source": [
    "Here we can see one of the images."
   ]
  },
  {
   "cell_type": "code",
   "execution_count": 2,
   "metadata": {},
   "outputs": [
    {
     "data": {
      "image/png": "[encoded data removed]",
      "text/plain": [
       "<Figure size 432x288 with 1 Axes>"
      ]
     },
     "metadata": {
      "needs_background": "light"
     },
     "output_type": "display_data"
    }
   ],
   "source": [
    "image, label = next(iter(trainloader))\n",
    "helper.imshow(image[0,:]);"
   ]
  },
  {
   "cell_type": "markdown",
   "metadata": {},
   "source": [
    "## Building the network\n",
    "\n",
    "Here you should define your network. As with MNIST, each image is 28x28 which is a total of 784 pixels, and there are 10 classes. You should include at least one hidden layer. We suggest you use ReLU activations for the layers and to return the logits or log-softmax from the forward pass. It's up to you how many layers you add and the size of those layers."
   ]
  },
  {
   "cell_type": "code",
   "execution_count": 7,
   "metadata": {},
   "outputs": [],
   "source": [
    "from torch import nn\n",
    "from torch import optim\n",
    "import torch.nn.functional as F"
   ]
  },
  {
   "cell_type": "code",
   "execution_count": 19,
   "metadata": {},
   "outputs": [
    {
     "name": "stdout",
     "output_type": "stream",
     "text": [
      "Training loss: 2.2848024520792687\n",
      "Training loss: 2.210781371415551\n",
      "Training loss: 1.993558620466098\n",
      "Training loss: 1.5943407922157093\n",
      "Training loss: 1.2811617522097345\n",
      "Training loss: 1.105546619465102\n",
      "Training loss: 0.9887932521193775\n",
      "Training loss: 0.9024900326977915\n",
      "Training loss: 0.8348052258938868\n",
      "Training loss: 0.7828537821769714\n",
      "Training loss: 0.7454143156057228\n",
      "Training loss: 0.7189322232818807\n",
      "Training loss: 0.6984635929880875\n",
      "Training loss: 0.6811468283822542\n",
      "Training loss: 0.6662433308197745\n",
      "Training loss: 0.652493850413416\n",
      "Training loss: 0.6396710871379259\n",
      "Training loss: 0.6276273074180587\n",
      "Training loss: 0.6166034740870441\n",
      "Training loss: 0.6058383857263431\n",
      "Training loss: 0.5959043416069515\n",
      "Training loss: 0.5863346052068129\n",
      "Training loss: 0.5775007530570284\n",
      "Training loss: 0.5686703322093878\n",
      "Training loss: 0.5604615496483438\n",
      "Training loss: 0.5522099793560977\n",
      "Training loss: 0.5447052950734523\n",
      "Training loss: 0.5369886543069567\n",
      "Training loss: 0.5295955301093649\n",
      "Training loss: 0.5229262260041003\n",
      "Training loss: 0.5161395668665737\n",
      "Training loss: 0.5097006122504216\n",
      "Training loss: 0.5033469487354953\n",
      "Training loss: 0.4976688343991857\n",
      "Training loss: 0.4920123808387754\n",
      "Training loss: 0.486767261473736\n",
      "Training loss: 0.4816828324024611\n",
      "Training loss: 0.4772398926810161\n",
      "Training loss: 0.4726002741374695\n",
      "Training loss: 0.4684801652932218\n",
      "Training loss: 0.4646240108843043\n",
      "Training loss: 0.46090120817425406\n",
      "Training loss: 0.4573177356264993\n",
      "Training loss: 0.45362959991195306\n",
      "Training loss: 0.45035456171803384\n",
      "Training loss: 0.44708103135323474\n",
      "Training loss: 0.44417753254871634\n",
      "Training loss: 0.4411412533888939\n",
      "Training loss: 0.4384345876446157\n",
      "Training loss: 0.4356362620142223\n",
      "Training loss: 0.4330592010734178\n",
      "Training loss: 0.430300877086008\n",
      "Training loss: 0.4278643877585051\n",
      "Training loss: 0.42555756164766323\n",
      "Training loss: 0.42302735116499574\n",
      "Training loss: 0.4207202487472278\n",
      "Training loss: 0.4186494562512776\n",
      "Training loss: 0.41636585639610985\n",
      "Training loss: 0.4140857926913416\n",
      "Training loss: 0.4118760250715304\n",
      "Training loss: 0.40984528364021894\n",
      "Training loss: 0.40799730890658875\n",
      "Training loss: 0.4058995919186932\n",
      "Training loss: 0.4041843502792214\n",
      "Training loss: 0.4020444178250807\n",
      "Training loss: 0.4002415003584646\n",
      "Training loss: 0.3983867116320108\n",
      "Training loss: 0.3964450793670439\n",
      "Training loss: 0.3946060296346638\n",
      "Training loss: 0.3929995026415599\n",
      "Training loss: 0.3914304290340145\n",
      "Training loss: 0.3895210352247712\n",
      "Training loss: 0.3877128597611049\n",
      "Training loss: 0.3861116168976847\n",
      "Training loss: 0.3844013362328635\n",
      "Training loss: 0.38310393825300465\n",
      "Training loss: 0.38146139716288685\n",
      "Training loss: 0.37989162134209165\n",
      "Training loss: 0.3782369007529226\n",
      "Training loss: 0.3764443562101962\n",
      "Training loss: 0.3750465066988331\n",
      "Training loss: 0.3734987749537425\n",
      "Training loss: 0.37233693759515085\n",
      "Training loss: 0.37064492592870046\n",
      "Training loss: 0.3692735791095157\n",
      "Training loss: 0.36791404049152504\n",
      "Training loss: 0.36646700903042545\n",
      "Training loss: 0.3649462726451695\n",
      "Training loss: 0.3637802771953886\n",
      "Training loss: 0.362239500050987\n",
      "Training loss: 0.3608266881931184\n",
      "Training loss: 0.35935911560045886\n",
      "Training loss: 0.35841440063104957\n",
      "Training loss: 0.3569863803033381\n",
      "Training loss: 0.3556839974243631\n",
      "Training loss: 0.3543505959991199\n",
      "Training loss: 0.35295006802786133\n",
      "Training loss: 0.3519943564542448\n",
      "Training loss: 0.35088246945601537\n",
      "Training loss: 0.34939570639179207\n"
     ]
    }
   ],
   "source": [
    "# TODO: Define your network architecture here\n",
    "model = nn.Sequential(nn.Linear(784, 128),\n",
    "                      nn.ReLU(),\n",
    "                      nn.Linear(128, 64),\n",
    "                      nn.ReLU(),\n",
    "                      nn.Linear(64, 32),\n",
    "                      nn.ReLU(),\n",
    "                      nn.Linear(32, 10),\n",
    "                      nn.LogSoftmax(dim=1))\n",
    "\n",
    "criterion = nn.NLLLoss()\n",
    "optimizer = optim.SGD(model.parameters(), lr=0.001)\n",
    "\n",
    "epochs = 100\n",
    "for e in range(epochs):\n",
    "    running_loss = 0\n",
    "    for images, labels in trainloader:\n",
    "        # Flatten FashionMNIST images into 784 long vector\n",
    "        images = images.view(images.shape[0], -1)\n",
    "        \n",
    "        # Clear the gradients, do this because gradients are accumulated\n",
    "        optimizer.zero_grad()\n",
    "        \n",
    "        # Forward pass, calculate the loss, backward pass and then update weights\n",
    "        output =model.forward(images)\n",
    "        loss = criterion(output, labels)\n",
    "        loss.backward()\n",
    "        optimizer.step()\n",
    "        \n",
    "        running_loss += loss.item()\n",
    "    else:\n",
    "        print(f\"Training loss: {running_loss/len(trainloader)}\")\n"
   ]
  },
  {
   "cell_type": "markdown",
   "metadata": {},
   "source": [
    "# Train the network\n",
    "\n",
    "Now you should create your network and train it. First you'll want to define [the criterion](http://pytorch.org/docs/master/nn.html#loss-functions) ( something like `nn.CrossEntropyLoss`) and [the optimizer](http://pytorch.org/docs/master/optim.html) (typically `optim.SGD` or `optim.Adam`).\n",
    "\n",
    "Then write the training code. Remember the training pass is a fairly straightforward process:\n",
    "\n",
    "* Make a forward pass through the network to get the logits \n",
    "* Use the logits to calculate the loss\n",
    "* Perform a backward pass through the network with `loss.backward()` to calculate the gradients\n",
    "* Take a step with the optimizer to update the weights\n",
    "\n",
    "By adjusting the hyperparameters (hidden units, learning rate, etc), you should be able to get the training loss below 0.4."
   ]
  },
  {
   "cell_type": "code",
   "execution_count": null,
   "metadata": {},
   "outputs": [],
   "source": [
    "# TODO: Create the network, define the criterion and optimizer\n"
   ]
  },
  {
   "cell_type": "code",
   "execution_count": null,
   "metadata": {},
   "outputs": [],
   "source": [
    "# TODO: Train the network here\n"
   ]
  },
  {
   "cell_type": "code",
   "execution_count": 20,
   "metadata": {},
   "outputs": [
    {
     "data": {
      "image/png": "[encoded data removed]",
      "text/plain": [
       "<Figure size 432x648 with 2 Axes>"
      ]
     },
     "metadata": {
      "image/png": {
       "height": 206,
       "width": 423
      },
      "needs_background": "light"
     },
     "output_type": "display_data"
    }
   ],
   "source": [
    "%matplotlib inline\n",
    "%config InlineBackend.figure_format = 'retina'\n",
    "\n",
    "import helper\n",
    "\n",
    "# Test out your network!\n",
    "\n",
    "dataiter = iter(testloader)\n",
    "images, labels = dataiter.next()\n",
    "img = images[0]\n",
    "# Convert 2D image to 1D vector\n",
    "img = img.resize_(1, 784)\n",
    "\n",
    "# TODO: Calculate the class probabilities (softmax) for img\n",
    "with torch.no_grad():\n",
    "    logits = model.forward(img)\n",
    "ps = F.softmax(logits, dim=1)\n",
    "\n",
    "# Plot the image and probabilities\n",
    "helper.view_classify(img.resize_(1, 28, 28), ps, version='Fashion')"
   ]
  },
  {
   "cell_type": "code",
   "execution_count": null,
   "metadata": {},
   "outputs": [],
   "source": [
    "    "
   ]
  }
 ],
 "metadata": {
  "kernelspec": {
   "display_name": "Python 3",
   "language": "python",
   "name": "python3"
  },
  "language_info": {
   "codemirror_mode": {
    "name": "ipython",
    "version": 3
   },
   "file_extension": ".py",
   "mimetype": "text/x-python",
   "name": "python",
   "nbconvert_exporter": "python",
   "pygments_lexer": "ipython3",
   "version": "3.6.2"
  }
 },
 "nbformat": 4,
 "nbformat_minor": 2
}
